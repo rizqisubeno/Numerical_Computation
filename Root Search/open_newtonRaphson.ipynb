{
 "cells": [
  {
   "cell_type": "code",
   "execution_count": 1,
   "metadata": {},
   "outputs": [],
   "source": [
    "import numpy as np\n",
    "import pandas as pd"
   ]
  },
  {
   "attachments": {},
   "cell_type": "markdown",
   "metadata": {},
   "source": [
    "## Function to be estimated\n",
    "$$f(x) = e^{-x}-x=0$$"
   ]
  },
  {
   "cell_type": "code",
   "execution_count": 2,
   "metadata": {},
   "outputs": [],
   "source": [
    "# function x\n",
    "def func(x):\n",
    "    return np.exp(-x)-x\n",
    "\n",
    "## derrivative 1 from fx function\n",
    "def der1_fx(x):\n",
    "    return -np.exp(-x)-1\n",
    "## derrivative 2 from fx function\n",
    "def der2_fx(x):\n",
    "    return np.exp(-x)\n"
   ]
  },
  {
   "cell_type": "code",
   "execution_count": 3,
   "metadata": {},
   "outputs": [],
   "source": [
    "true_r = 0.56714329"
   ]
  },
  {
   "attachments": {},
   "cell_type": "markdown",
   "metadata": {},
   "source": [
    "## For Error analysis Newton-Raphson Method\n",
    "$$|\\delta_{i+1}| \\cong \\frac{-f''(\\alpha)}{2\\times f'(\\alpha)}\\delta_i^2$$"
   ]
  },
  {
   "cell_type": "code",
   "execution_count": 4,
   "metadata": {},
   "outputs": [],
   "source": [
    "def error_analyze(x, delta_i, der1_func, der2_func):\n",
    "    return (-der2_func(x)/(2*der1_func(x)))*(delta_i**2)"
   ]
  },
  {
   "cell_type": "code",
   "execution_count": 10,
   "metadata": {},
   "outputs": [],
   "source": [
    "def newtonraphson_iter(x, func, der1_func, der2_func, true_root, max_iter=1000, err_tolerance=3):\n",
    "    es = 0.5*10**(2-err_tolerance)\n",
    "    xr = x\n",
    "    xr_array = np.zeros(0)\n",
    "    xr_array = np.append(xr_array, xr)\n",
    "    et = ((true_root-xr)/(true_root))*100\n",
    "    et_array = np.zeros(0)\n",
    "    et_array = np.append(et_array, np.round(et,5))\n",
    "    ea = 0\n",
    "    ea_array = np.zeros(0)\n",
    "    ea_array = np.append(ea_array,\"None\")\n",
    "    abs_sigma = np.abs(true_root - xr)\n",
    "    abs_sigma_arr = np.zeros(0)\n",
    "    abs_sigma_arr = np.append(abs_sigma_arr, abs_sigma)\n",
    "    est_sigma = error_analyze(true_root, abs_sigma, der1_func, der2_func)\n",
    "    est_sigma_arr = np.zeros(0)\n",
    "    est_sigma_arr = np.append(est_sigma_arr, est_sigma)\n",
    "\n",
    "    for i in range(max_iter):\n",
    "        xr = xr - (func(xr)/der1_func(xr))\n",
    "        xr_array = np.append(xr_array, xr)\n",
    "        \n",
    "        ea = np.abs((xr_array[-1]-xr_array[-2])/(xr_array[-1]))*100\n",
    "        et = np.abs((true_root-xr)/(true_root))*100\n",
    "        abs_sigma = np.abs(true_root - xr)\n",
    "        est_sigma = error_analyze(true_root, abs_sigma, der1_func, der2_func)\n",
    "\n",
    "        ea_array = np.append(ea_array, np.round(ea,5))\n",
    "        et_array = np.append(et_array, np.round(et,5))\n",
    "        abs_sigma_arr = np.append(abs_sigma_arr, abs_sigma)\n",
    "        est_sigma_arr = np.append(est_sigma_arr, est_sigma)\n",
    "\n",
    "        if(ea<es):\n",
    "            print(\"iteration break at \", i+2)\n",
    "            break\n",
    "\n",
    "    return xr_array, ea_array, et_array, abs_sigma_arr, est_sigma_arr\n",
    "        \n",
    "        \n"
   ]
  },
  {
   "cell_type": "code",
   "execution_count": 11,
   "metadata": {},
   "outputs": [
    {
     "name": "stdout",
     "output_type": "stream",
     "text": [
      "iteration break at  5\n"
     ]
    },
    {
     "data": {
      "text/html": [
       "<div>\n",
       "<style scoped>\n",
       "    .dataframe tbody tr th:only-of-type {\n",
       "        vertical-align: middle;\n",
       "    }\n",
       "\n",
       "    .dataframe tbody tr th {\n",
       "        vertical-align: top;\n",
       "    }\n",
       "\n",
       "    .dataframe thead th {\n",
       "        text-align: right;\n",
       "    }\n",
       "</style>\n",
       "<table border=\"1\" class=\"dataframe\">\n",
       "  <thead>\n",
       "    <tr style=\"text-align: right;\">\n",
       "      <th></th>\n",
       "      <th>xr</th>\n",
       "      <th>ea</th>\n",
       "      <th>et</th>\n",
       "      <th>abs_sigma</th>\n",
       "      <th>estimated abs sigma</th>\n",
       "    </tr>\n",
       "  </thead>\n",
       "  <tbody>\n",
       "    <tr>\n",
       "      <th>1</th>\n",
       "      <td>0.000000</td>\n",
       "      <td>None</td>\n",
       "      <td>100.00000</td>\n",
       "      <td>5.671433e-01</td>\n",
       "      <td>5.820224e-02</td>\n",
       "    </tr>\n",
       "    <tr>\n",
       "      <th>2</th>\n",
       "      <td>0.500000</td>\n",
       "      <td>100.0</td>\n",
       "      <td>11.83886</td>\n",
       "      <td>6.714329e-02</td>\n",
       "      <td>8.157542e-04</td>\n",
       "    </tr>\n",
       "    <tr>\n",
       "      <th>3</th>\n",
       "      <td>0.566311</td>\n",
       "      <td>11.70929</td>\n",
       "      <td>0.14675</td>\n",
       "      <td>8.322868e-04</td>\n",
       "      <td>1.253430e-07</td>\n",
       "    </tr>\n",
       "    <tr>\n",
       "      <th>4</th>\n",
       "      <td>0.567143</td>\n",
       "      <td>0.14673</td>\n",
       "      <td>0.00002</td>\n",
       "      <td>1.249651e-07</td>\n",
       "      <td>2.825738e-15</td>\n",
       "    </tr>\n",
       "    <tr>\n",
       "      <th>5</th>\n",
       "      <td>0.567143</td>\n",
       "      <td>2e-05</td>\n",
       "      <td>0.00000</td>\n",
       "      <td>4.097811e-10</td>\n",
       "      <td>3.038491e-20</td>\n",
       "    </tr>\n",
       "  </tbody>\n",
       "</table>\n",
       "</div>"
      ],
      "text/plain": [
       "         xr        ea         et     abs_sigma  estimated abs sigma\n",
       "1  0.000000      None  100.00000  5.671433e-01         5.820224e-02\n",
       "2  0.500000     100.0   11.83886  6.714329e-02         8.157542e-04\n",
       "3  0.566311  11.70929    0.14675  8.322868e-04         1.253430e-07\n",
       "4  0.567143   0.14673    0.00002  1.249651e-07         2.825738e-15\n",
       "5  0.567143     2e-05    0.00000  4.097811e-10         3.038491e-20"
      ]
     },
     "metadata": {},
     "output_type": "display_data"
    }
   ],
   "source": [
    "xr_array, ea_array, et_array, abs_sigma_arr, est_sigma_arr = newtonraphson_iter(0, func, der1_fx, der2_fx, true_r, 1000, 3)\n",
    "\n",
    "df = pd.DataFrame({\"xr\":xr_array, \"ea\":ea_array, \"et\":np.round(et_array, 10), \"abs_sigma\":abs_sigma_arr, \"estimated abs sigma\":est_sigma_arr})\n",
    "\n",
    "#table start from 1\n",
    "df.index += 1\n",
    "\n",
    "display(df)"
   ]
  }
 ],
 "metadata": {
  "kernelspec": {
   "display_name": "base",
   "language": "python",
   "name": "python3"
  },
  "language_info": {
   "codemirror_mode": {
    "name": "ipython",
    "version": 3
   },
   "file_extension": ".py",
   "mimetype": "text/x-python",
   "name": "python",
   "nbconvert_exporter": "python",
   "pygments_lexer": "ipython3",
   "version": "3.10.9"
  },
  "orig_nbformat": 4
 },
 "nbformat": 4,
 "nbformat_minor": 2
}
