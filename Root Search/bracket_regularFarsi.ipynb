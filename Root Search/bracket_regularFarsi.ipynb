{
 "cells": [
  {
   "cell_type": "code",
   "execution_count": 1,
   "metadata": {},
   "outputs": [],
   "source": [
    "import numpy as np\n",
    "import pandas as pd\n",
    "import matplotlib.pyplot as plt"
   ]
  },
  {
   "cell_type": "code",
   "execution_count": 2,
   "metadata": {},
   "outputs": [],
   "source": [
    "true_root = 14.8011359"
   ]
  },
  {
   "attachments": {},
   "cell_type": "markdown",
   "metadata": {},
   "source": [
    "## Function to estimate : \n",
    "$$ f(x) = \\frac{9.81\\times68.1}{x}[1-{\\rm e}^{-(x/68.1)10}]-40$$"
   ]
  },
  {
   "cell_type": "code",
   "execution_count": 3,
   "metadata": {},
   "outputs": [],
   "source": [
    "#function to be estimated\n",
    "func = lambda x: ((9.81*68.1)/x)*(1-np.exp(-(x/68.1)*10))-40"
   ]
  },
  {
   "attachments": {},
   "cell_type": "markdown",
   "metadata": {},
   "source": [
    "## Function to estimate (Case 2) : \n",
    "$$ f(x) = x^{10}-1$$"
   ]
  },
  {
   "cell_type": "code",
   "execution_count": 4,
   "metadata": {},
   "outputs": [],
   "source": [
    "#function to be estimated (2)\n",
    "func2 = lambda x: (x**10)-1"
   ]
  },
  {
   "attachments": {},
   "cell_type": "markdown",
   "metadata": {},
   "source": [
    "## Regular Farsi Method\n",
    "$$x_r = x_u - \\frac{f(x_u)(x_l-x_u)}{f(x_l)-f(x_u)}$$"
   ]
  },
  {
   "cell_type": "code",
   "execution_count": 5,
   "metadata": {},
   "outputs": [],
   "source": [
    "regularFarsi = lambda xl, xu, func : xu-((func(xu)*(xl-xu))/(func(xl)-func(xu)))"
   ]
  },
  {
   "cell_type": "code",
   "execution_count": 6,
   "metadata": {},
   "outputs": [],
   "source": [
    "def bracketing_method(lower, upper, func, is_zero_digit=3, significant=3, max_iter=1000):\n",
    "    \"\"\"\n",
    "    Parameter :\n",
    "    - lower           = lower value for approximation\n",
    "    - upper           = upper value for approximation\n",
    "    - func            = function to be estimated\n",
    "    - is_zero_digit   = true zero with respect < 10^-n digits\n",
    "    - significant     = prefixed percent tolerance\n",
    "    - max_iter        = max iteration algorithm\n",
    "\n",
    "    Output :\n",
    "    - root            = true root with respect <10^-n  digits (is_zero_digit)\n",
    "    - xr              = root estimated\n",
    "    - xr_array        = history when root estimating\n",
    "    - ea_array        = history for error approximation\n",
    "    - et_array        = history for true error approximation\n",
    "\n",
    "    Algorithm Steps : \n",
    "    1. Choose two points xl and xu such that f(xl)*f(xr)<0\n",
    "    2. Estimate the root xr using bisection method\n",
    "    3. Determine which subinterval the root lies:\n",
    "    \"\"\"\n",
    "    xl = lower\n",
    "    xu = upper\n",
    "    es = 0.5*10**(2-significant)\n",
    "    xr = 0\n",
    "    ea = 0\n",
    "    et = 0\n",
    "    xr_array = np.zeros(0)\n",
    "    ea_array = np.zeros(0)\n",
    "    ea_array = np.append(ea_array,\"None\")\n",
    "    et_array = np.zeros(0)\n",
    "    root = None\n",
    "    \n",
    "    if(func(xl)*func(xu)<0):\n",
    "        for i in range(max_iter):\n",
    "            xr = regularFarsi(xl,xu,func)\n",
    "            xr_array = np.append(xr_array,xr)\n",
    "            \n",
    "            if(func(xl)*func(xr) < 0):\n",
    "                xu = xr\n",
    "            if(func(xl)*func(xr) > 0):\n",
    "                xl = xr\n",
    "            if(np.abs(func(xl)*func(xr)) < (10**(-is_zero_digit))):\n",
    "                root = xr\n",
    "            #calculate ea\n",
    "            et = ((true_root-xr)/(true_root))*100\n",
    "            et_array = np.append(et_array,np.round(np.abs(et),6))\n",
    "            #print(xr)\n",
    "            if(i>0):\n",
    "                ea = ((xr_array[i]-xr_array[i-1])/(xr_array[i]))*100\n",
    "                ea_array = np.append(ea_array,np.round(np.abs(ea),6))\n",
    "            \n",
    "            if(np.abs(ea)<es) and (i>0):\n",
    "                print(\"iteration break at index \",i)\n",
    "                break\n",
    "    else:\n",
    "        print(\"xl and xu point not recommend to start iteration\")\n",
    "\n",
    "    return root, xr, xr_array, ea_array, et_array"
   ]
  },
  {
   "cell_type": "code",
   "execution_count": 7,
   "metadata": {},
   "outputs": [
    {
     "name": "stdout",
     "output_type": "stream",
     "text": [
      "iteration break at index  18\n",
      "estimated : 14.80113990545107\n",
      "true root : 14.80113990545107\n"
     ]
    },
    {
     "data": {
      "text/html": [
       "<div>\n",
       "<style scoped>\n",
       "    .dataframe tbody tr th:only-of-type {\n",
       "        vertical-align: middle;\n",
       "    }\n",
       "\n",
       "    .dataframe tbody tr th {\n",
       "        vertical-align: top;\n",
       "    }\n",
       "\n",
       "    .dataframe thead th {\n",
       "        text-align: right;\n",
       "    }\n",
       "</style>\n",
       "<table border=\"1\" class=\"dataframe\">\n",
       "  <thead>\n",
       "    <tr style=\"text-align: right;\">\n",
       "      <th></th>\n",
       "      <th>xr</th>\n",
       "      <th>f(xr)</th>\n",
       "      <th>ea</th>\n",
       "      <th>et</th>\n",
       "    </tr>\n",
       "  </thead>\n",
       "  <tbody>\n",
       "    <tr>\n",
       "      <th>0</th>\n",
       "      <td>17.332483</td>\n",
       "      <td>-4.480324</td>\n",
       "      <td>None</td>\n",
       "      <td>17.102381</td>\n",
       "    </tr>\n",
       "    <tr>\n",
       "      <th>1</th>\n",
       "      <td>16.019168</td>\n",
       "      <td>-2.264270</td>\n",
       "      <td>8.198394</td>\n",
       "      <td>8.229315</td>\n",
       "    </tr>\n",
       "    <tr>\n",
       "      <th>2</th>\n",
       "      <td>15.383534</td>\n",
       "      <td>-1.109317</td>\n",
       "      <td>4.131913</td>\n",
       "      <td>3.934819</td>\n",
       "    </tr>\n",
       "    <tr>\n",
       "      <th>3</th>\n",
       "      <td>15.078722</td>\n",
       "      <td>-0.535007</td>\n",
       "      <td>2.021472</td>\n",
       "      <td>1.875435</td>\n",
       "    </tr>\n",
       "    <tr>\n",
       "      <th>4</th>\n",
       "      <td>14.933234</td>\n",
       "      <td>-0.256048</td>\n",
       "      <td>0.974251</td>\n",
       "      <td>0.892489</td>\n",
       "    </tr>\n",
       "    <tr>\n",
       "      <th>5</th>\n",
       "      <td>14.863952</td>\n",
       "      <td>-0.122087</td>\n",
       "      <td>0.466108</td>\n",
       "      <td>0.424402</td>\n",
       "    </tr>\n",
       "    <tr>\n",
       "      <th>6</th>\n",
       "      <td>14.830996</td>\n",
       "      <td>-0.058110</td>\n",
       "      <td>0.222212</td>\n",
       "      <td>0.201742</td>\n",
       "    </tr>\n",
       "    <tr>\n",
       "      <th>7</th>\n",
       "      <td>14.815328</td>\n",
       "      <td>-0.027635</td>\n",
       "      <td>0.105758</td>\n",
       "      <td>0.095883</td>\n",
       "    </tr>\n",
       "    <tr>\n",
       "      <th>8</th>\n",
       "      <td>14.807880</td>\n",
       "      <td>-0.013137</td>\n",
       "      <td>0.050293</td>\n",
       "      <td>0.045567</td>\n",
       "    </tr>\n",
       "    <tr>\n",
       "      <th>9</th>\n",
       "      <td>14.804341</td>\n",
       "      <td>-0.006244</td>\n",
       "      <td>0.023908</td>\n",
       "      <td>0.021655</td>\n",
       "    </tr>\n",
       "    <tr>\n",
       "      <th>10</th>\n",
       "      <td>14.802659</td>\n",
       "      <td>-0.002967</td>\n",
       "      <td>0.011363</td>\n",
       "      <td>0.010291</td>\n",
       "    </tr>\n",
       "    <tr>\n",
       "      <th>11</th>\n",
       "      <td>14.801860</td>\n",
       "      <td>-0.001410</td>\n",
       "      <td>0.0054</td>\n",
       "      <td>0.004890</td>\n",
       "    </tr>\n",
       "    <tr>\n",
       "      <th>12</th>\n",
       "      <td>14.801480</td>\n",
       "      <td>-0.000670</td>\n",
       "      <td>0.002566</td>\n",
       "      <td>0.002324</td>\n",
       "    </tr>\n",
       "    <tr>\n",
       "      <th>13</th>\n",
       "      <td>14.801299</td>\n",
       "      <td>-0.000318</td>\n",
       "      <td>0.001219</td>\n",
       "      <td>0.001105</td>\n",
       "    </tr>\n",
       "    <tr>\n",
       "      <th>14</th>\n",
       "      <td>14.801214</td>\n",
       "      <td>-0.000151</td>\n",
       "      <td>0.00058</td>\n",
       "      <td>0.000525</td>\n",
       "    </tr>\n",
       "    <tr>\n",
       "      <th>15</th>\n",
       "      <td>14.801173</td>\n",
       "      <td>-0.000072</td>\n",
       "      <td>0.000275</td>\n",
       "      <td>0.000250</td>\n",
       "    </tr>\n",
       "    <tr>\n",
       "      <th>16</th>\n",
       "      <td>14.801153</td>\n",
       "      <td>-0.000034</td>\n",
       "      <td>0.000131</td>\n",
       "      <td>0.000119</td>\n",
       "    </tr>\n",
       "    <tr>\n",
       "      <th>17</th>\n",
       "      <td>14.801144</td>\n",
       "      <td>-0.000016</td>\n",
       "      <td>6.2e-05</td>\n",
       "      <td>0.000057</td>\n",
       "    </tr>\n",
       "    <tr>\n",
       "      <th>18</th>\n",
       "      <td>14.801140</td>\n",
       "      <td>-0.000008</td>\n",
       "      <td>3e-05</td>\n",
       "      <td>0.000027</td>\n",
       "    </tr>\n",
       "  </tbody>\n",
       "</table>\n",
       "</div>"
      ],
      "text/plain": [
       "           xr     f(xr)        ea         et\n",
       "0   17.332483 -4.480324      None  17.102381\n",
       "1   16.019168 -2.264270  8.198394   8.229315\n",
       "2   15.383534 -1.109317  4.131913   3.934819\n",
       "3   15.078722 -0.535007  2.021472   1.875435\n",
       "4   14.933234 -0.256048  0.974251   0.892489\n",
       "5   14.863952 -0.122087  0.466108   0.424402\n",
       "6   14.830996 -0.058110  0.222212   0.201742\n",
       "7   14.815328 -0.027635  0.105758   0.095883\n",
       "8   14.807880 -0.013137  0.050293   0.045567\n",
       "9   14.804341 -0.006244  0.023908   0.021655\n",
       "10  14.802659 -0.002967  0.011363   0.010291\n",
       "11  14.801860 -0.001410    0.0054   0.004890\n",
       "12  14.801480 -0.000670  0.002566   0.002324\n",
       "13  14.801299 -0.000318  0.001219   0.001105\n",
       "14  14.801214 -0.000151   0.00058   0.000525\n",
       "15  14.801173 -0.000072  0.000275   0.000250\n",
       "16  14.801153 -0.000034  0.000131   0.000119\n",
       "17  14.801144 -0.000016   6.2e-05   0.000057\n",
       "18  14.801140 -0.000008     3e-05   0.000027"
      ]
     },
     "metadata": {},
     "output_type": "display_data"
    }
   ],
   "source": [
    "root, xr, xr_array, ea_array, et_array = bracketing_method(1,20,func,2,6,10000)\n",
    "print(\"estimated : {}\".format(xr))\n",
    "print(\"true root : {}\".format(root))\n",
    "\n",
    "#displaying data with Pandas\n",
    "df = pd.DataFrame({\"xr\":xr_array,\"f(xr)\":func(xr_array),\"ea\":ea_array,\"et\":et_array})\n",
    "display(df)"
   ]
  },
  {
   "cell_type": "code",
   "execution_count": 8,
   "metadata": {},
   "outputs": [
    {
     "data": {
      "image/png": "[encoded data removed]",
      "text/plain": [
       "<Figure size 640x480 with 1 Axes>"
      ]
     },
     "metadata": {},
     "output_type": "display_data"
    }
   ],
   "source": [
    "x = np.arange(0.001,20,0.001)\n",
    "y = func(x)\n",
    "\n",
    "plt.scatter(xr_array, func(xr_array), color = \"blue\", marker=\".\")\n",
    "plt.plot(x, y, color = \"orange\")\n",
    "plt.grid(True)\n"
   ]
  },
  {
   "cell_type": "code",
   "execution_count": 9,
   "metadata": {},
   "outputs": [
    {
     "data": {
      "text/plain": [
       "[<matplotlib.lines.Line2D at 0x1ed6c29bfd0>]"
      ]
     },
     "execution_count": 9,
     "metadata": {},
     "output_type": "execute_result"
    },
    {
     "data": {
      "image/png": "[encoded data removed]",
      "text/plain": [
       "<Figure size 640x480 with 1 Axes>"
      ]
     },
     "metadata": {},
     "output_type": "display_data"
    }
   ],
   "source": [
    "#true error plot\n",
    "x = np.arange(0,len(et_array),1)\n",
    "plt.title(\"true error each step\")\n",
    "plt.plot(x,et_array)"
   ]
  },
  {
   "attachments": {},
   "cell_type": "markdown",
   "metadata": {},
   "source": [
    "# Function Estimation (Case 2)"
   ]
  },
  {
   "cell_type": "code",
   "execution_count": 10,
   "metadata": {},
   "outputs": [
    {
     "name": "stdout",
     "output_type": "stream",
     "text": [
      "iteration break at index  57\n",
      "estimated : 0.9999985423271911\n",
      "true root : 0.9999985423271911\n"
     ]
    },
    {
     "data": {
      "text/html": [
       "<div>\n",
       "<style scoped>\n",
       "    .dataframe tbody tr th:only-of-type {\n",
       "        vertical-align: middle;\n",
       "    }\n",
       "\n",
       "    .dataframe tbody tr th {\n",
       "        vertical-align: top;\n",
       "    }\n",
       "\n",
       "    .dataframe thead th {\n",
       "        text-align: right;\n",
       "    }\n",
       "</style>\n",
       "<table border=\"1\" class=\"dataframe\">\n",
       "  <thead>\n",
       "    <tr style=\"text-align: right;\">\n",
       "      <th></th>\n",
       "      <th>xr</th>\n",
       "      <th>f(xr)</th>\n",
       "      <th>ea</th>\n",
       "      <th>et</th>\n",
       "    </tr>\n",
       "  </thead>\n",
       "  <tbody>\n",
       "    <tr>\n",
       "      <th>0</th>\n",
       "      <td>0.187046</td>\n",
       "      <td>56.765026</td>\n",
       "      <td>None</td>\n",
       "      <td>98.736274</td>\n",
       "    </tr>\n",
       "    <tr>\n",
       "      <th>1</th>\n",
       "      <td>0.267777</td>\n",
       "      <td>56.196328</td>\n",
       "      <td>30.148785</td>\n",
       "      <td>98.190832</td>\n",
       "    </tr>\n",
       "    <tr>\n",
       "      <th>2</th>\n",
       "      <td>0.342653</td>\n",
       "      <td>55.672872</td>\n",
       "      <td>21.851677</td>\n",
       "      <td>97.684956</td>\n",
       "    </tr>\n",
       "    <tr>\n",
       "      <th>3</th>\n",
       "      <td>0.412096</td>\n",
       "      <td>55.190799</td>\n",
       "      <td>16.85113</td>\n",
       "      <td>97.215784</td>\n",
       "    </tr>\n",
       "    <tr>\n",
       "      <th>4</th>\n",
       "      <td>0.476494</td>\n",
       "      <td>54.746648</td>\n",
       "      <td>13.51507</td>\n",
       "      <td>96.780693</td>\n",
       "    </tr>\n",
       "  </tbody>\n",
       "</table>\n",
       "</div>"
      ],
      "text/plain": [
       "         xr      f(xr)         ea         et\n",
       "0  0.187046  56.765026       None  98.736274\n",
       "1  0.267777  56.196328  30.148785  98.190832\n",
       "2  0.342653  55.672872  21.851677  97.684956\n",
       "3  0.412096  55.190799   16.85113  97.215784\n",
       "4  0.476494  54.746648   13.51507  96.780693"
      ]
     },
     "metadata": {},
     "output_type": "display_data"
    }
   ],
   "source": [
    "root, xr, xr_array, ea_array, et_array = bracketing_method(0.1,1.3,func2,2,6,10000)\n",
    "print(\"estimated : {}\".format(xr))\n",
    "print(\"true root : {}\".format(root))\n",
    "\n",
    "#displaying data with Pandas\n",
    "df = pd.DataFrame({\"xr\":xr_array,\"f(xr)\":func(xr_array),\"ea\":ea_array,\"et\":et_array})\n",
    "display(df.head())"
   ]
  },
  {
   "cell_type": "code",
   "execution_count": 11,
   "metadata": {},
   "outputs": [
    {
     "data": {
      "image/png": "[encoded data removed]",
      "text/plain": [
       "<Figure size 640x480 with 1 Axes>"
      ]
     },
     "metadata": {},
     "output_type": "display_data"
    }
   ],
   "source": [
    "x = np.arange(0.001,1.2,0.001)\n",
    "y = func2(x)\n",
    "\n",
    "plt.scatter(xr_array, func2(xr_array), color = \"blue\", marker=\".\")\n",
    "plt.plot(x, y, color = \"orange\")\n",
    "plt.grid(True)"
   ]
  },
  {
   "cell_type": "code",
   "execution_count": 12,
   "metadata": {},
   "outputs": [
    {
     "data": {
      "text/plain": [
       "[<matplotlib.lines.Line2D at 0x1ed6d392770>]"
      ]
     },
     "execution_count": 12,
     "metadata": {},
     "output_type": "execute_result"
    },
    {
     "data": {
      "image/png": "[encoded data removed]",
      "text/plain": [
       "<Figure size 640x480 with 1 Axes>"
      ]
     },
     "metadata": {},
     "output_type": "display_data"
    }
   ],
   "source": [
    "#true error plot\n",
    "x = np.arange(0,len(et_array),1)\n",
    "plt.title(\"true error each step\")\n",
    "plt.plot(x,et_array)"
   ]
  }
 ],
 "metadata": {
  "kernelspec": {
   "display_name": "base",
   "language": "python",
   "name": "python3"
  },
  "language_info": {
   "codemirror_mode": {
    "name": "ipython",
    "version": 3
   },
   "file_extension": ".py",
   "mimetype": "text/x-python",
   "name": "python",
   "nbconvert_exporter": "python",
   "pygments_lexer": "ipython3",
   "version": "3.10.9"
  },
  "orig_nbformat": 4,
  "vscode": {
   "interpreter": {
    "hash": "af8259ad5c1c9c7a69bd6ea085234cf8fd3a6a37a71ca551828b314c4d89b0ad"
   }
  }
 },
 "nbformat": 4,
 "nbformat_minor": 2
}
