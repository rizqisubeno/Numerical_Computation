{
 "cells": [
  {
   "cell_type": "code",
   "execution_count": 1,
   "metadata": {},
   "outputs": [],
   "source": [
    "import numpy as np\n",
    "import pandas as pd"
   ]
  },
  {
   "attachments": {},
   "cell_type": "markdown",
   "metadata": {},
   "source": [
    "## Function to be estimated\n",
    "$$f(x) = e^{-x}-x = 0$$"
   ]
  },
  {
   "cell_type": "code",
   "execution_count": 2,
   "metadata": {},
   "outputs": [],
   "source": [
    "def func(x):\n",
    "    return np.exp(-x)-x\n",
    "\n",
    "true_r = 0.56714329"
   ]
  },
  {
   "attachments": {},
   "cell_type": "markdown",
   "metadata": {},
   "source": [
    "## Secant Method Iteration"
   ]
  },
  {
   "cell_type": "code",
   "execution_count": 3,
   "metadata": {},
   "outputs": [],
   "source": [
    "#true error and approximation error respect with x_i+1 and x_i\n",
    "def secant_method(xiprev, x, func, true_root, max_iter=1000, err_tolerance=3):\n",
    "    es = 0.5*10**(2-err_tolerance)\n",
    "\n",
    "    #xiprevious = x_i-1\n",
    "    xiprevious = xiprev\n",
    "    #xi = x_i\n",
    "    xi = x\n",
    "\n",
    "    ea_array = np.zeros(0)\n",
    "    et_array = np.zeros(0)\n",
    "    xi_array = np.zeros(0)\n",
    "    xiprev_array = np.zeros(0)\n",
    "    xilatest_array = np.zeros(0)\n",
    "\n",
    "\n",
    "    for i in range(max_iter):\n",
    "\n",
    "        xi_array = np.append(xi_array, xi)\n",
    "        xiprev_array = np.append(xiprev_array, xiprevious)\n",
    "\n",
    "        #secant calculation\n",
    "        #xilatest = x_i+1\n",
    "        xilatest = xi - ((func(xi)*(xiprev-xi))/(func(xiprev)-func(xi)))\n",
    "        xilatest_array = np.append(xilatest_array, xilatest)\n",
    "        \n",
    "        # check error\n",
    "        ea = np.abs((xilatest-xi)/(xilatest))*100\n",
    "        et = np.abs((true_root-xilatest)/(true_root))*100\n",
    "        ea_array = np.append(ea_array, ea)\n",
    "        et_array = np.append(et_array, et)\n",
    "\n",
    "        xiprevious = xi\n",
    "        xi = xilatest\n",
    "\n",
    "        if(ea<es):\n",
    "            print(\"iteration break at \", i+1)\n",
    "            break\n",
    "\n",
    "    return xiprev_array, xi_array, xilatest_array, ea_array, et_array\n"
   ]
  },
  {
   "cell_type": "code",
   "execution_count": 4,
   "metadata": {},
   "outputs": [],
   "source": [
    "#true error and approximation error respect with x_i+1 and x_i\n",
    "def modified_secant_method(x, deltax, func, true_root, max_iter=1000, err_tolerance=3):\n",
    "    es = 0.5*10**(2-err_tolerance)\n",
    "\n",
    "    #xi = x_i\n",
    "    xi = x\n",
    "\n",
    "    ea_array = np.zeros(0)\n",
    "    et_array = np.zeros(0)\n",
    "    xi_array = np.zeros(0)\n",
    "    xilatest_array = np.zeros(0)\n",
    "\n",
    "    for i in range(max_iter):\n",
    "\n",
    "        xi_array = np.append(xi_array, xi)\n",
    "        #secant calculation\n",
    "        #xilatest = x_i+1\n",
    "        xilatest = xi - ((deltax*xi*func(xi))/(func(xi+deltax*xi)-func(xi)))\n",
    "        xilatest_array = np.append(xilatest_array, xilatest)\n",
    "        \n",
    "        # check error\n",
    "        ea = np.abs((xilatest-xi)/(xilatest))*100\n",
    "        et = np.abs((true_root-xilatest)/(true_root))*100\n",
    "        ea_array = np.append(ea_array, ea)\n",
    "        et_array = np.append(et_array, et)\n",
    "\n",
    "        xi = xilatest\n",
    "\n",
    "        if(ea<es):\n",
    "            print(\"iteration break at \", i+1)\n",
    "            break\n",
    "\n",
    "    return xi_array, xilatest_array, ea_array, et_array\n"
   ]
  },
  {
   "cell_type": "code",
   "execution_count": 5,
   "metadata": {},
   "outputs": [
    {
     "name": "stdout",
     "output_type": "stream",
     "text": [
      "iteration break at  5\n"
     ]
    },
    {
     "data": {
      "text/html": [
       "<div>\n",
       "<style scoped>\n",
       "    .dataframe tbody tr th:only-of-type {\n",
       "        vertical-align: middle;\n",
       "    }\n",
       "\n",
       "    .dataframe tbody tr th {\n",
       "        vertical-align: top;\n",
       "    }\n",
       "\n",
       "    .dataframe thead th {\n",
       "        text-align: right;\n",
       "    }\n",
       "</style>\n",
       "<table border=\"1\" class=\"dataframe\">\n",
       "  <thead>\n",
       "    <tr style=\"text-align: right;\">\n",
       "      <th></th>\n",
       "      <th>xi-1</th>\n",
       "      <th>xi</th>\n",
       "      <th>f(xi-1)</th>\n",
       "      <th>f(x)</th>\n",
       "      <th>xi+1</th>\n",
       "      <th>et</th>\n",
       "    </tr>\n",
       "  </thead>\n",
       "  <tbody>\n",
       "    <tr>\n",
       "      <th>1</th>\n",
       "      <td>0.000000</td>\n",
       "      <td>1.000000</td>\n",
       "      <td>1.000000</td>\n",
       "      <td>-0.632121</td>\n",
       "      <td>0.612700</td>\n",
       "      <td>8.032634</td>\n",
       "    </tr>\n",
       "    <tr>\n",
       "      <th>2</th>\n",
       "      <td>1.000000</td>\n",
       "      <td>0.612700</td>\n",
       "      <td>-0.632121</td>\n",
       "      <td>-0.070814</td>\n",
       "      <td>0.572181</td>\n",
       "      <td>0.888333</td>\n",
       "    </tr>\n",
       "    <tr>\n",
       "      <th>3</th>\n",
       "      <td>0.612700</td>\n",
       "      <td>0.572181</td>\n",
       "      <td>-0.070814</td>\n",
       "      <td>-0.007888</td>\n",
       "      <td>0.567703</td>\n",
       "      <td>0.098727</td>\n",
       "    </tr>\n",
       "    <tr>\n",
       "      <th>4</th>\n",
       "      <td>0.572181</td>\n",
       "      <td>0.567703</td>\n",
       "      <td>-0.007888</td>\n",
       "      <td>-0.000877</td>\n",
       "      <td>0.567206</td>\n",
       "      <td>0.010978</td>\n",
       "    </tr>\n",
       "    <tr>\n",
       "      <th>5</th>\n",
       "      <td>0.567703</td>\n",
       "      <td>0.567206</td>\n",
       "      <td>-0.000877</td>\n",
       "      <td>-0.000098</td>\n",
       "      <td>0.567150</td>\n",
       "      <td>0.001221</td>\n",
       "    </tr>\n",
       "  </tbody>\n",
       "</table>\n",
       "</div>"
      ],
      "text/plain": [
       "       xi-1        xi   f(xi-1)      f(x)      xi+1        et\n",
       "1  0.000000  1.000000  1.000000 -0.632121  0.612700  8.032634\n",
       "2  1.000000  0.612700 -0.632121 -0.070814  0.572181  0.888333\n",
       "3  0.612700  0.572181 -0.070814 -0.007888  0.567703  0.098727\n",
       "4  0.572181  0.567703 -0.007888 -0.000877  0.567206  0.010978\n",
       "5  0.567703  0.567206 -0.000877 -0.000098  0.567150  0.001221"
      ]
     },
     "metadata": {},
     "output_type": "display_data"
    }
   ],
   "source": [
    "xiprev_array, xi_array, xilatest_array, ea_array, et_array = secant_method(0, 1, func, true_r, 1000, 3)\n",
    "\n",
    "df = pd.DataFrame({\"xi-1\":xiprev_array, \"xi\":xi_array, \"f(xi-1)\":func(xiprev_array), \"f(x)\":func(xi_array), \"xi+1\":xilatest_array, \"et\":et_array})\n",
    "\n",
    "# start table from 1\n",
    "df.index += 1\n",
    "\n",
    "display(df)"
   ]
  },
  {
   "cell_type": "code",
   "execution_count": 11,
   "metadata": {},
   "outputs": [
    {
     "name": "stdout",
     "output_type": "stream",
     "text": [
      "iteration break at  3\n"
     ]
    },
    {
     "data": {
      "text/html": [
       "<div>\n",
       "<style scoped>\n",
       "    .dataframe tbody tr th:only-of-type {\n",
       "        vertical-align: middle;\n",
       "    }\n",
       "\n",
       "    .dataframe tbody tr th {\n",
       "        vertical-align: top;\n",
       "    }\n",
       "\n",
       "    .dataframe thead th {\n",
       "        text-align: right;\n",
       "    }\n",
       "</style>\n",
       "<table border=\"1\" class=\"dataframe\">\n",
       "  <thead>\n",
       "    <tr style=\"text-align: right;\">\n",
       "      <th></th>\n",
       "      <th>xi</th>\n",
       "      <th>f(x)</th>\n",
       "      <th>xi+1</th>\n",
       "      <th>et</th>\n",
       "    </tr>\n",
       "  </thead>\n",
       "  <tbody>\n",
       "    <tr>\n",
       "      <th>1</th>\n",
       "      <td>1.000000</td>\n",
       "      <td>-0.632121</td>\n",
       "      <td>0.537263</td>\n",
       "      <td>5.268620</td>\n",
       "    </tr>\n",
       "    <tr>\n",
       "      <th>2</th>\n",
       "      <td>0.537263</td>\n",
       "      <td>0.047083</td>\n",
       "      <td>0.567010</td>\n",
       "      <td>0.023557</td>\n",
       "    </tr>\n",
       "    <tr>\n",
       "      <th>3</th>\n",
       "      <td>0.567010</td>\n",
       "      <td>0.000209</td>\n",
       "      <td>0.567143</td>\n",
       "      <td>0.000024</td>\n",
       "    </tr>\n",
       "  </tbody>\n",
       "</table>\n",
       "</div>"
      ],
      "text/plain": [
       "         xi      f(x)      xi+1        et\n",
       "1  1.000000 -0.632121  0.537263  5.268620\n",
       "2  0.537263  0.047083  0.567010  0.023557\n",
       "3  0.567010  0.000209  0.567143  0.000024"
      ]
     },
     "metadata": {},
     "output_type": "display_data"
    }
   ],
   "source": [
    "xi_array, xilatest_array, ea_array, et_array = modified_secant_method(1.0, 0.01, func, true_r, 1000, 3)\n",
    "\n",
    "df = pd.DataFrame({\"xi\":xi_array, \"f(x)\":func(xi_array), \"xi+1\":xilatest_array, \"et\":et_array})\n",
    "\n",
    "# start table from 1\n",
    "df.index += 1\n",
    "\n",
    "display(df)"
   ]
  }
 ],
 "metadata": {
  "kernelspec": {
   "display_name": "base",
   "language": "python",
   "name": "python3"
  },
  "language_info": {
   "codemirror_mode": {
    "name": "ipython",
    "version": 3
   },
   "file_extension": ".py",
   "mimetype": "text/x-python",
   "name": "python",
   "nbconvert_exporter": "python",
   "pygments_lexer": "ipython3",
   "version": "3.10.9"
  },
  "orig_nbformat": 4
 },
 "nbformat": 4,
 "nbformat_minor": 2
}
