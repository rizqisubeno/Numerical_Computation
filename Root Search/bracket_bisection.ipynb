{
 "cells": [
  {
   "cell_type": "code",
   "execution_count": 1,
   "metadata": {},
   "outputs": [],
   "source": [
    "import numpy as np\n",
    "import pandas as pd\n",
    "import matplotlib.pyplot as plt"
   ]
  },
  {
   "cell_type": "code",
   "execution_count": 2,
   "metadata": {},
   "outputs": [],
   "source": [
    "#true_root = 14.7802\n",
    "true_root = 14.8011359"
   ]
  },
  {
   "attachments": {},
   "cell_type": "markdown",
   "metadata": {},
   "source": [
    "## Bisection method\n",
    "$$ x_r = \\frac{x_u+x_l}{2}$$"
   ]
  },
  {
   "cell_type": "code",
   "execution_count": 3,
   "metadata": {},
   "outputs": [],
   "source": [
    "#bisection method\n",
    "bisection_method = lambda xl, xu : (xl+xu)/2"
   ]
  },
  {
   "attachments": {},
   "cell_type": "markdown",
   "metadata": {},
   "source": [
    "## Function to estimate : \n",
    "$$ f(x) = \\frac{9.81\\times68.1}{x}[1-{\\rm e}^{-(x/68.1)10}]-40$$"
   ]
  },
  {
   "cell_type": "code",
   "execution_count": 4,
   "metadata": {},
   "outputs": [],
   "source": [
    "#function to be estimated\n",
    "func = lambda x: ((9.81*68.1)/x)*(1-np.exp(-(x/68.1)*10))-40"
   ]
  },
  {
   "attachments": {},
   "cell_type": "markdown",
   "metadata": {},
   "source": [
    "## Function to estimate (Case 2) : \n",
    "$$ f(x) = x^{10}-1$$"
   ]
  },
  {
   "cell_type": "code",
   "execution_count": 5,
   "metadata": {},
   "outputs": [],
   "source": [
    "#function to be estimated (2)\n",
    "func2 = lambda x: (x**10)-1"
   ]
  },
  {
   "cell_type": "code",
   "execution_count": 6,
   "metadata": {},
   "outputs": [],
   "source": [
    "def bracketing_method(lower, upper, func, is_zero_digit=3, significant=3, max_iter=1000):\n",
    "    \"\"\"\n",
    "    Parameter :\n",
    "    - lower           = lower value for approximation\n",
    "    - upper           = upper value for approximation\n",
    "    - func            = function to be estimated\n",
    "    - is_zero_digit   = true zero with respect < 10^-n digits\n",
    "    - significant     = prefixed percent tolerance\n",
    "    - max_iter        = max iteration algorithm\n",
    "\n",
    "    Output :\n",
    "    - root            = true root with respect <10^-n  digits (is_zero_digit)\n",
    "    - xr              = root estimated\n",
    "    - xr_array        = history when root estimating\n",
    "    - ea_array        = history for error approximation\n",
    "    - et_array        = history for true error approximation\n",
    "\n",
    "    Algorithm Steps : \n",
    "    1. Choose two points xl and xu such that f(xl)*f(xr)<0\n",
    "    2. Estimate the root xr using bisection method\n",
    "    3. Determine which subinterval the root lies:\n",
    "    \"\"\"\n",
    "    xl = lower\n",
    "    xu = upper\n",
    "    es = 0.5*10**(2-significant)\n",
    "    xr = 0\n",
    "    ea = 0\n",
    "    et = 0\n",
    "    xr_array = np.zeros(0)\n",
    "    ea_array = np.zeros(0)\n",
    "    ea_array = np.append(ea_array,\"None\")\n",
    "    et_array = np.zeros(0)\n",
    "    root = None\n",
    "    \n",
    "    if(func(xl)*func(xu)<0):\n",
    "        for i in range(max_iter):\n",
    "            xr = bisection_method(xl,xu)\n",
    "            xr_array = np.append(xr_array,xr)\n",
    "            \n",
    "            if(func(xl)*func(xr) < 0):\n",
    "                xu = xr\n",
    "            if(func(xl)*func(xr) > 0):\n",
    "                xl = xr\n",
    "            if(np.abs(func(xl)*func(xr)) < (10**(-is_zero_digit))):\n",
    "                root = xr\n",
    "            #calculate ea\n",
    "            et = ((true_root-xr)/(true_root))*100\n",
    "            et_array = np.append(et_array,np.round(np.abs(et),6))\n",
    "            #print(xr)\n",
    "            if(i>0):\n",
    "                ea = ((xr_array[i]-xr_array[i-1])/(xr_array[i]))*100\n",
    "                ea_array = np.append(ea_array,np.round(np.abs(ea),6))\n",
    "            \n",
    "            if(np.abs(ea)<es) and (i>0):\n",
    "                print(\"iteration break at index \",i)\n",
    "                break\n",
    "    else:\n",
    "        print(\"xl and xu point not recommend to start iteration\")\n",
    "\n",
    "    return root, xr, xr_array, ea_array, et_array"
   ]
  },
  {
   "cell_type": "code",
   "execution_count": 7,
   "metadata": {},
   "outputs": [
    {
     "name": "stdout",
     "output_type": "stream",
     "text": [
      "iteration break at index  21\n",
      "estimated : 14.8011314868927\n",
      "true root : 14.8011314868927\n"
     ]
    },
    {
     "data": {
      "text/html": [
       "<div>\n",
       "<style scoped>\n",
       "    .dataframe tbody tr th:only-of-type {\n",
       "        vertical-align: middle;\n",
       "    }\n",
       "\n",
       "    .dataframe tbody tr th {\n",
       "        vertical-align: top;\n",
       "    }\n",
       "\n",
       "    .dataframe thead th {\n",
       "        text-align: right;\n",
       "    }\n",
       "</style>\n",
       "<table border=\"1\" class=\"dataframe\">\n",
       "  <thead>\n",
       "    <tr style=\"text-align: right;\">\n",
       "      <th></th>\n",
       "      <th>xr</th>\n",
       "      <th>f(xr)</th>\n",
       "      <th>ea</th>\n",
       "      <th>et</th>\n",
       "    </tr>\n",
       "  </thead>\n",
       "  <tbody>\n",
       "    <tr>\n",
       "      <th>0</th>\n",
       "      <td>10.500000</td>\n",
       "      <td>1.001010e+01</td>\n",
       "      <td>None</td>\n",
       "      <td>29.059499</td>\n",
       "    </tr>\n",
       "    <tr>\n",
       "      <th>1</th>\n",
       "      <td>15.250000</td>\n",
       "      <td>-8.593929e-01</td>\n",
       "      <td>31.147541</td>\n",
       "      <td>3.032633</td>\n",
       "    </tr>\n",
       "    <tr>\n",
       "      <th>2</th>\n",
       "      <td>12.875000</td>\n",
       "      <td>4.054102e+00</td>\n",
       "      <td>18.446602</td>\n",
       "      <td>13.013433</td>\n",
       "    </tr>\n",
       "    <tr>\n",
       "      <th>3</th>\n",
       "      <td>14.062500</td>\n",
       "      <td>1.481727e+00</td>\n",
       "      <td>8.444444</td>\n",
       "      <td>4.990400</td>\n",
       "    </tr>\n",
       "    <tr>\n",
       "      <th>4</th>\n",
       "      <td>14.656250</td>\n",
       "      <td>2.838956e-01</td>\n",
       "      <td>4.051173</td>\n",
       "      <td>0.978884</td>\n",
       "    </tr>\n",
       "    <tr>\n",
       "      <th>5</th>\n",
       "      <td>14.953125</td>\n",
       "      <td>-2.943733e-01</td>\n",
       "      <td>1.985371</td>\n",
       "      <td>1.026875</td>\n",
       "    </tr>\n",
       "    <tr>\n",
       "      <th>6</th>\n",
       "      <td>14.804688</td>\n",
       "      <td>-6.918677e-03</td>\n",
       "      <td>1.002639</td>\n",
       "      <td>0.023995</td>\n",
       "    </tr>\n",
       "    <tr>\n",
       "      <th>7</th>\n",
       "      <td>14.730469</td>\n",
       "      <td>1.380655e-01</td>\n",
       "      <td>0.503845</td>\n",
       "      <td>0.477444</td>\n",
       "    </tr>\n",
       "    <tr>\n",
       "      <th>8</th>\n",
       "      <td>14.767578</td>\n",
       "      <td>6.546804e-02</td>\n",
       "      <td>0.25129</td>\n",
       "      <td>0.226724</td>\n",
       "    </tr>\n",
       "    <tr>\n",
       "      <th>9</th>\n",
       "      <td>14.786133</td>\n",
       "      <td>2.924839e-02</td>\n",
       "      <td>0.125487</td>\n",
       "      <td>0.101364</td>\n",
       "    </tr>\n",
       "    <tr>\n",
       "      <th>10</th>\n",
       "      <td>14.795410</td>\n",
       "      <td>1.115829e-02</td>\n",
       "      <td>0.062704</td>\n",
       "      <td>0.038684</td>\n",
       "    </tr>\n",
       "    <tr>\n",
       "      <th>11</th>\n",
       "      <td>14.800049</td>\n",
       "      <td>2.118164e-03</td>\n",
       "      <td>0.031342</td>\n",
       "      <td>0.007345</td>\n",
       "    </tr>\n",
       "    <tr>\n",
       "      <th>12</th>\n",
       "      <td>14.802368</td>\n",
       "      <td>-2.400667e-03</td>\n",
       "      <td>0.015669</td>\n",
       "      <td>0.008325</td>\n",
       "    </tr>\n",
       "    <tr>\n",
       "      <th>13</th>\n",
       "      <td>14.801208</td>\n",
       "      <td>-1.413539e-04</td>\n",
       "      <td>0.007835</td>\n",
       "      <td>0.000490</td>\n",
       "    </tr>\n",
       "    <tr>\n",
       "      <th>14</th>\n",
       "      <td>14.800629</td>\n",
       "      <td>9.883795e-04</td>\n",
       "      <td>0.003918</td>\n",
       "      <td>0.003427</td>\n",
       "    </tr>\n",
       "    <tr>\n",
       "      <th>15</th>\n",
       "      <td>14.800919</td>\n",
       "      <td>4.235064e-04</td>\n",
       "      <td>0.001959</td>\n",
       "      <td>0.001468</td>\n",
       "    </tr>\n",
       "    <tr>\n",
       "      <th>16</th>\n",
       "      <td>14.801064</td>\n",
       "      <td>1.410747e-04</td>\n",
       "      <td>0.000979</td>\n",
       "      <td>0.000489</td>\n",
       "    </tr>\n",
       "    <tr>\n",
       "      <th>17</th>\n",
       "      <td>14.801136</td>\n",
       "      <td>-1.399969e-07</td>\n",
       "      <td>0.00049</td>\n",
       "      <td>0.000001</td>\n",
       "    </tr>\n",
       "    <tr>\n",
       "      <th>18</th>\n",
       "      <td>14.801100</td>\n",
       "      <td>7.046724e-05</td>\n",
       "      <td>0.000245</td>\n",
       "      <td>0.000244</td>\n",
       "    </tr>\n",
       "    <tr>\n",
       "      <th>19</th>\n",
       "      <td>14.801118</td>\n",
       "      <td>3.516360e-05</td>\n",
       "      <td>0.000122</td>\n",
       "      <td>0.000122</td>\n",
       "    </tr>\n",
       "    <tr>\n",
       "      <th>20</th>\n",
       "      <td>14.801127</td>\n",
       "      <td>1.751179e-05</td>\n",
       "      <td>6.1e-05</td>\n",
       "      <td>0.000060</td>\n",
       "    </tr>\n",
       "    <tr>\n",
       "      <th>21</th>\n",
       "      <td>14.801131</td>\n",
       "      <td>8.685897e-06</td>\n",
       "      <td>3.1e-05</td>\n",
       "      <td>0.000030</td>\n",
       "    </tr>\n",
       "  </tbody>\n",
       "</table>\n",
       "</div>"
      ],
      "text/plain": [
       "           xr         f(xr)         ea         et\n",
       "0   10.500000  1.001010e+01       None  29.059499\n",
       "1   15.250000 -8.593929e-01  31.147541   3.032633\n",
       "2   12.875000  4.054102e+00  18.446602  13.013433\n",
       "3   14.062500  1.481727e+00   8.444444   4.990400\n",
       "4   14.656250  2.838956e-01   4.051173   0.978884\n",
       "5   14.953125 -2.943733e-01   1.985371   1.026875\n",
       "6   14.804688 -6.918677e-03   1.002639   0.023995\n",
       "7   14.730469  1.380655e-01   0.503845   0.477444\n",
       "8   14.767578  6.546804e-02    0.25129   0.226724\n",
       "9   14.786133  2.924839e-02   0.125487   0.101364\n",
       "10  14.795410  1.115829e-02   0.062704   0.038684\n",
       "11  14.800049  2.118164e-03   0.031342   0.007345\n",
       "12  14.802368 -2.400667e-03   0.015669   0.008325\n",
       "13  14.801208 -1.413539e-04   0.007835   0.000490\n",
       "14  14.800629  9.883795e-04   0.003918   0.003427\n",
       "15  14.800919  4.235064e-04   0.001959   0.001468\n",
       "16  14.801064  1.410747e-04   0.000979   0.000489\n",
       "17  14.801136 -1.399969e-07    0.00049   0.000001\n",
       "18  14.801100  7.046724e-05   0.000245   0.000244\n",
       "19  14.801118  3.516360e-05   0.000122   0.000122\n",
       "20  14.801127  1.751179e-05    6.1e-05   0.000060\n",
       "21  14.801131  8.685897e-06    3.1e-05   0.000030"
      ]
     },
     "metadata": {},
     "output_type": "display_data"
    }
   ],
   "source": [
    "root, xr, xr_array, ea_array, et_array = bracketing_method(1,20,func,6,6,10000)\n",
    "print(\"estimated : {}\".format(xr))\n",
    "print(\"true root : {}\".format(root))\n",
    "\n",
    "#displaying data with Pandas\n",
    "df = pd.DataFrame({\"xr\":xr_array,\"f(xr)\":func(xr_array),\"ea\":ea_array,\"et\":et_array})\n",
    "display(df)"
   ]
  },
  {
   "cell_type": "code",
   "execution_count": 8,
   "metadata": {},
   "outputs": [
    {
     "data": {
      "image/png": "[encoded data removed]",
      "text/plain": [
       "<Figure size 640x480 with 1 Axes>"
      ]
     },
     "metadata": {},
     "output_type": "display_data"
    }
   ],
   "source": [
    "x = np.arange(0.001,20,0.001)\n",
    "y = func(x)\n",
    "\n",
    "plt.scatter(xr_array, func(xr_array), color = \"blue\", marker=\".\")\n",
    "plt.plot(x, y, color = \"orange\")\n",
    "plt.grid(True)\n"
   ]
  },
  {
   "cell_type": "code",
   "execution_count": 9,
   "metadata": {},
   "outputs": [
    {
     "data": {
      "text/plain": [
       "[<matplotlib.lines.Line2D at 0x2645c7cbfa0>]"
      ]
     },
     "execution_count": 9,
     "metadata": {},
     "output_type": "execute_result"
    },
    {
     "data": {
      "image/png": "[encoded data removed]",
      "text/plain": [
       "<Figure size 640x480 with 1 Axes>"
      ]
     },
     "metadata": {},
     "output_type": "display_data"
    }
   ],
   "source": [
    "#true error plot\n",
    "x = np.arange(0,len(et_array),1)\n",
    "plt.title(\"true error each step\")\n",
    "plt.plot(x,et_array)"
   ]
  },
  {
   "attachments": {},
   "cell_type": "markdown",
   "metadata": {},
   "source": [
    "# Function Estimation (Case 2)"
   ]
  },
  {
   "cell_type": "code",
   "execution_count": 11,
   "metadata": {},
   "outputs": [
    {
     "name": "stdout",
     "output_type": "stream",
     "text": [
      "iteration break at index  2\n",
      "estimated : 1.0\n",
      "true root : 1.0\n"
     ]
    },
    {
     "data": {
      "text/html": [
       "<div>\n",
       "<style scoped>\n",
       "    .dataframe tbody tr th:only-of-type {\n",
       "        vertical-align: middle;\n",
       "    }\n",
       "\n",
       "    .dataframe tbody tr th {\n",
       "        vertical-align: top;\n",
       "    }\n",
       "\n",
       "    .dataframe thead th {\n",
       "        text-align: right;\n",
       "    }\n",
       "</style>\n",
       "<table border=\"1\" class=\"dataframe\">\n",
       "  <thead>\n",
       "    <tr style=\"text-align: right;\">\n",
       "      <th></th>\n",
       "      <th>xr</th>\n",
       "      <th>f(xr)</th>\n",
       "      <th>ea</th>\n",
       "      <th>et</th>\n",
       "    </tr>\n",
       "  </thead>\n",
       "  <tbody>\n",
       "    <tr>\n",
       "      <th>0</th>\n",
       "      <td>0.7</td>\n",
       "      <td>53.226551</td>\n",
       "      <td>None</td>\n",
       "      <td>95.270633</td>\n",
       "    </tr>\n",
       "    <tr>\n",
       "      <th>1</th>\n",
       "      <td>1.0</td>\n",
       "      <td>51.237338</td>\n",
       "      <td>30.0</td>\n",
       "      <td>93.243762</td>\n",
       "    </tr>\n",
       "    <tr>\n",
       "      <th>2</th>\n",
       "      <td>1.0</td>\n",
       "      <td>51.237338</td>\n",
       "      <td>0.0</td>\n",
       "      <td>93.243762</td>\n",
       "    </tr>\n",
       "  </tbody>\n",
       "</table>\n",
       "</div>"
      ],
      "text/plain": [
       "    xr      f(xr)    ea         et\n",
       "0  0.7  53.226551  None  95.270633\n",
       "1  1.0  51.237338  30.0  93.243762\n",
       "2  1.0  51.237338   0.0  93.243762"
      ]
     },
     "metadata": {},
     "output_type": "display_data"
    }
   ],
   "source": [
    "root, xr, xr_array, ea_array, et_array = bracketing_method(0.1,1.3,func2,6,6,10000)\n",
    "print(\"estimated : {}\".format(xr))\n",
    "print(\"true root : {}\".format(root))\n",
    "\n",
    "#displaying data with Pandas\n",
    "df = pd.DataFrame({\"xr\":xr_array,\"f(xr)\":func(xr_array),\"ea\":ea_array,\"et\":et_array})\n",
    "display(df)"
   ]
  },
  {
   "cell_type": "code",
   "execution_count": 12,
   "metadata": {},
   "outputs": [
    {
     "data": {
      "image/png": "[encoded data removed]",
      "text/plain": [
       "<Figure size 640x480 with 1 Axes>"
      ]
     },
     "metadata": {},
     "output_type": "display_data"
    }
   ],
   "source": [
    "x = np.arange(0.001,1.2,0.001)\n",
    "y = func2(x)\n",
    "\n",
    "plt.scatter(xr_array, func2(xr_array), color = \"blue\", marker=\".\")\n",
    "plt.plot(x, y, color = \"orange\")\n",
    "plt.grid(True)"
   ]
  },
  {
   "cell_type": "code",
   "execution_count": 13,
   "metadata": {},
   "outputs": [
    {
     "data": {
      "text/plain": [
       "[<matplotlib.lines.Line2D at 0x2645d8c81f0>]"
      ]
     },
     "execution_count": 13,
     "metadata": {},
     "output_type": "execute_result"
    },
    {
     "data": {
      "image/png": "[encoded data removed]",
      "text/plain": [
       "<Figure size 640x480 with 1 Axes>"
      ]
     },
     "metadata": {},
     "output_type": "display_data"
    }
   ],
   "source": [
    "#true error plot\n",
    "x = np.arange(0,len(et_array),1)\n",
    "plt.title(\"true error each step\")\n",
    "plt.plot(x,et_array)"
   ]
  }
 ],
 "metadata": {
  "kernelspec": {
   "display_name": "base",
   "language": "python",
   "name": "python3"
  },
  "language_info": {
   "codemirror_mode": {
    "name": "ipython",
    "version": 3
   },
   "file_extension": ".py",
   "mimetype": "text/x-python",
   "name": "python",
   "nbconvert_exporter": "python",
   "pygments_lexer": "ipython3",
   "version": "3.10.9"
  },
  "orig_nbformat": 4,
  "vscode": {
   "interpreter": {
    "hash": "af8259ad5c1c9c7a69bd6ea085234cf8fd3a6a37a71ca551828b314c4d89b0ad"
   }
  }
 },
 "nbformat": 4,
 "nbformat_minor": 2
}
