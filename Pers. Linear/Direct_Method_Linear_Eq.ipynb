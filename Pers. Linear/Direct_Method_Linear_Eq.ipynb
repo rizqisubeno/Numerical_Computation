{
 "cells": [
  {
   "attachments": {},
   "cell_type": "markdown",
   "metadata": {},
   "source": [
    "## Direct Method for Solving Linear Equations"
   ]
  },
  {
   "cell_type": "code",
   "execution_count": 111,
   "metadata": {},
   "outputs": [],
   "source": [
    "import numpy as np\n",
    "import sys\n",
    "np.set_printoptions(threshold=sys.maxsize)"
   ]
  },
  {
   "attachments": {},
   "cell_type": "markdown",
   "metadata": {},
   "source": [
    "## Linear Equations\n",
    "$$\\begin{aligned}2x_1 &+ x_2&+ 4x_3 &= 1\\\\\n",
    "x_1 &+ 2x_2&+ 3x_3 &= 1.5 \\\\\n",
    "4x_1 &- x_2&+ 2x_3 &= 2\\end{aligned}$$"
   ]
  },
  {
   "cell_type": "code",
   "execution_count": 112,
   "metadata": {},
   "outputs": [],
   "source": [
    "data = np.array([[2, 1, 4], [1, 2, 3], [4, -1, 2]], dtype=np.float32)\n",
    "hasil = np.array([[1],[1.5],[2]], dtype=np.float32)\n",
    "#print(\"data:\\n\", data)\n",
    "#print(\"hasil:\\n\", hasil)"
   ]
  },
  {
   "cell_type": "code",
   "execution_count": 113,
   "metadata": {},
   "outputs": [],
   "source": [
    "data2 = np.array([[1, 2], [1.05, 2]])\n",
    "hasil2 = np.array([[10], [10.4]])"
   ]
  },
  {
   "cell_type": "code",
   "execution_count": 114,
   "metadata": {},
   "outputs": [],
   "source": [
    "data3 = np.array([[1, 2, 5, -1, 7],\n",
    "                  [0, 0, 33, 2, 15],\n",
    "                  [0, -4, 5, 6, 1],\n",
    "                  [0, 6, 25, 99, 2],\n",
    "                  [0, -8, 5, 0, 10]], dtype=np.float32)\n",
    "hasil3 = np.array([[1],[2],[3],[4],[5]], dtype=np.float32)"
   ]
  },
  {
   "cell_type": "code",
   "execution_count": 115,
   "metadata": {},
   "outputs": [],
   "source": [
    "data4 = np.array([[1, 1], [2, 100000]], dtype=np.float32)\n",
    "hasil4 = np.array([[2], [100000]], dtype=np.float32)"
   ]
  },
  {
   "attachments": {},
   "cell_type": "markdown",
   "metadata": {},
   "source": [
    "## Forward Elimination"
   ]
  },
  {
   "cell_type": "code",
   "execution_count": 116,
   "metadata": {},
   "outputs": [],
   "source": [
    "def forward_elimination(data, hasil):\n",
    "    n, _ = hasil.shape\n",
    "    #n = 3\n",
    "    a = np.copy(data)\n",
    "    b = np.copy(hasil)\n",
    "\n",
    "    for k in range(n-1): ## 0|1\n",
    "        for i in range(k+1,n): ## 1,2|2\n",
    "            factor = a[i,k]/a[k,k]\n",
    "            # fixing from j=k+1 to j=k because first must be 0     \n",
    "            for j in range(k,n): ##0,1,2|1,2\n",
    "                a[i,j]=a[i,j] - factor*a[k,j]\n",
    "            b[i] = b[i] - factor*b[k]\n",
    "    \n",
    "    return a, b"
   ]
  },
  {
   "attachments": {},
   "cell_type": "markdown",
   "metadata": {},
   "source": [
    "Partial Pivoting to Switch row matrix\n",
    "$$\\text{partial pivoting when pivot is under } 10^{-1}$$"
   ]
  },
  {
   "cell_type": "code",
   "execution_count": 117,
   "metadata": {},
   "outputs": [],
   "source": [
    "def partial_pivoting(data, nrow1, nrow2):\n",
    "    temp = np.copy(data[nrow1,:])\n",
    "    data[nrow1,:] = np.copy(data[nrow2,:])\n",
    "    data[nrow2,:] = temp\n",
    "    return data"
   ]
  },
  {
   "attachments": {},
   "cell_type": "markdown",
   "metadata": {},
   "source": [
    "Scaling to maximum value 1"
   ]
  },
  {
   "cell_type": "code",
   "execution_count": 118,
   "metadata": {},
   "outputs": [],
   "source": [
    "def scale(data, baris):\n",
    "    out = np.copy(data)\n",
    "    val = np.max(data[baris,:])\n",
    "    out[baris,:] = out[baris,:]/val\n",
    "    return out"
   ]
  },
  {
   "attachments": {},
   "cell_type": "markdown",
   "metadata": {},
   "source": [
    "## Modified Forward Elimination 2 :\n",
    "- with partial pivoting and scaling feature"
   ]
  },
  {
   "cell_type": "code",
   "execution_count": 119,
   "metadata": {},
   "outputs": [],
   "source": [
    "def forward_elimination2(data, hasil, pivot_when_zero=False, scale_en=False):\n",
    "    n, _ = hasil.shape\n",
    "    #n = 3\n",
    "    a = np.copy(data)\n",
    "    b = np.copy(hasil)\n",
    "\n",
    "    for k in range(n-1): ## 0|1\n",
    "        for i in range(k+1,n): ## 1,2|2\n",
    "            if (scale_en):\n",
    "                a = scale(a,i)\n",
    "                b = scale(b,i)\n",
    "                print(\"scale:(k:{},i:{})\\n{}\\n{}\".format(k,i,a,b))\n",
    "            if (abs(a[k,k])<=10**-1 and pivot_when_zero==True) or pivot_when_zero==False:  ## check if zero\n",
    "                index = np.argmax(np.abs(a[k:n,k]))\n",
    "                index = index+k\n",
    "                if (index!=k):\n",
    "                    a = partial_pivoting(a,k,index)\n",
    "                    b = partial_pivoting(b,k,index)\n",
    "                    print(\"pivoting:(index:{}<->{})\\n{}\".format(k,index,a))\n",
    "            if abs(a[i,k])>=10**-10: ## check if the number is not zero\n",
    "                factor = a[i,k]/a[k,k]\n",
    "                # fixing from j=k+1 to j=k because first must be 0     \n",
    "                for j in range(k,n): ##0,1,2|1,2\n",
    "                    a[i,j]=a[i,j] - factor*a[k,j]\n",
    "                b[i] = b[i] - factor*b[k]\n",
    "                print(\"elimination(k:{},i:{}) factor {}\\n{}\\n{}\".format(k, i, factor, a, b))\n",
    "    \n",
    "    return a, b"
   ]
  },
  {
   "attachments": {},
   "cell_type": "markdown",
   "metadata": {},
   "source": [
    "## Back Substitution"
   ]
  },
  {
   "cell_type": "code",
   "execution_count": 120,
   "metadata": {},
   "outputs": [],
   "source": [
    "def backward_substitution(a, b, round_x=3):\n",
    "    n, _ = b.shape ## 3\n",
    "\n",
    "    x = np.zeros(shape=n)\n",
    "\n",
    "    x[n-1] = np.round(b[n-1]/a[n-1,n-1],round_x)\n",
    "    for i in range(n-2,-1,-1): ## downto 1|0\n",
    "        sum  = 0\n",
    "        for j in range(i+1,n): ## 2|1,2\n",
    "            sum = sum + a[i,j]*x[j]\n",
    "        x[i] = np.round((b[i]-sum)/a[i,i],round_x)\n",
    "    return x"
   ]
  },
  {
   "cell_type": "code",
   "execution_count": 121,
   "metadata": {},
   "outputs": [
    {
     "name": "stdout",
     "output_type": "stream",
     "text": [
      "scale:(k:0,i:1)\n",
      "[[1.e+00 1.e+00]\n",
      " [2.e-05 1.e+00]]\n",
      "[[2.]\n",
      " [1.]]\n",
      "elimination(k:0,i:1) factor 1.9999999494757503e-05\n",
      "[[1.      1.     ]\n",
      " [0.      0.99998]]\n",
      "[[2.     ]\n",
      " [0.99996]]\n",
      "matrix a:\n",
      " [[1.      1.     ]\n",
      " [0.      0.99998]]\n",
      "matrix out:\n",
      " [[2.     ]\n",
      " [0.99996]]\n",
      "x :\n",
      " [1. 1.]\n"
     ]
    }
   ],
   "source": [
    "#a, b = forward_elimination(data, hasil)\n",
    "a, b = forward_elimination2(data4, hasil4, pivot_when_zero=False, scale_en=True)\n",
    "print(\"matrix a:\\n\",a)\n",
    "print(\"matrix out:\\n\",b)\n",
    "x = backward_substitution(a, b, round_x=3)\n",
    "print(\"x :\\n\",x)"
   ]
  }
 ],
 "metadata": {
  "kernelspec": {
   "display_name": "Python 3 (ipykernel)",
   "language": "python",
   "name": "python3"
  },
  "language_info": {
   "codemirror_mode": {
    "name": "ipython",
    "version": 3
   },
   "file_extension": ".py",
   "mimetype": "text/x-python",
   "name": "python",
   "nbconvert_exporter": "python",
   "pygments_lexer": "ipython3",
   "version": "3.10.6"
  },
  "orig_nbformat": 4
 },
 "nbformat": 4,
 "nbformat_minor": 2
}
